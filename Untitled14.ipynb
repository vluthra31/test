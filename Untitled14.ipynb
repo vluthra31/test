{
 "cells": [
  {
   "cell_type": "code",
   "execution_count": 76,
   "metadata": {
    "collapsed": true
   },
   "outputs": [],
   "source": [
    "import numpy as np\n",
    "import pandas as pd\n",
    "import seaborn as sns\n",
    "%matplotlib inline\n",
    "import matplotlib.pyplot as plt"
   ]
  },
  {
   "cell_type": "code",
   "execution_count": 2,
   "metadata": {
    "collapsed": true
   },
   "outputs": [],
   "source": [
    "x = pd.read_csv('/Users/FlexLex/Downloads/HireArt - Data Analyst Exercise 10.12.17 - Sheet1.csv')"
   ]
  },
  {
   "cell_type": "code",
   "execution_count": 4,
   "metadata": {},
   "outputs": [
    {
     "data": {
      "text/plain": [
       "<bound method NDFrame.head of      Account manager                          Client Name Date of Contact\n",
       "0        Milan Crona              Wyman, Farrell and Haag      2015-10-31\n",
       "1       Aidan Pouros           Veum, McClure and Schuster      2013-12-07\n",
       "2        Milan Crona                      Armstrong Group      2013-11-02\n",
       "3       Aidan Pouros            Lueilwitz, Moore and Hahn      2013-12-25\n",
       "4      Chauncey Dach                         Abbott Group      2016-03-21\n",
       "5      Chauncey Dach        Oga, Gottlieb and Cruickshank      2013-10-27\n",
       "6    Rigoberto White          Fahey, Wunsch and Bashirian      2016-05-14\n",
       "7    Rigoberto White                          Bosco-Ortiz      2014-07-14\n",
       "8    Rigoberto White                       Ondricka-Wolff      2015-10-14\n",
       "9    Rigoberto White            Anderson, Kutch and Hyatt      2014-01-17\n",
       "10       Milan Crona                    Mitchell and Sons      2016-11-14\n",
       "11       Milan Crona              Brown, Wyman and Grimes      2015-10-17\n",
       "12      Aidan Pouros                          Cormier LLC      2013-10-22\n",
       "13       Milan Crona                         Stamm-Crooks      2014-09-23\n",
       "14   Rigoberto White                       Ondricka-Wolff      2013-10-28\n",
       "15     Chauncey Dach                          Hauck Group      2015-10-06\n",
       "16      Aidan Pouros                     Johnston-Schaden      2013-11-20\n",
       "17     Chauncey Dach                           Walter Inc      2015-02-04\n",
       "18     Chauncey Dach           Veum, McClure and Schuster      2016-12-13\n",
       "19       Milan Crona                           Hoppe-Batz      2015-10-30\n",
       "20     Chauncey Dach            Denesik, Stehr and Carter      2017-09-21\n",
       "21       Milan Crona                    Eichmann and Sons      2013-10-16\n",
       "22   Rigoberto White                     Sanford and Sons      2017-05-04\n",
       "23       Milan Crona             Kuhic, Stark and Kreiger      2013-10-24\n",
       "24     Chauncey Dach                     Johnston-Schaden      2015-09-12\n",
       "25      Aidan Pouros           Kris, Shanahan and Quigley      2014-07-04\n",
       "26     Chauncey Dach          Fahey, Wunsch and Bashirian      2017-04-14\n",
       "27       Milan Crona                             Koss Inc      2015-10-25\n",
       "28   Rigoberto White            Lueilwitz, Moore and Hahn      2014-12-05\n",
       "29       Milan Crona                        Halvorson LLC      2013-10-09\n",
       "..               ...                                  ...             ...\n",
       "970    Chauncey Dach             Orn, Russel and O'Reilly      2014-11-26\n",
       "971  Rigoberto White            Denesik, Stehr and Carter      2016-10-11\n",
       "972    Chauncey Dach          Lindgren, Graham and Spinka      2015-05-25\n",
       "973    Chauncey Dach                      Armstrong Group      2014-08-23\n",
       "974     Aidan Pouros        Oga, Gottlieb and Cruickshank      2015-08-10\n",
       "975     Aidan Pouros                    Donnelly-Champlin      2016-11-01\n",
       "976      Milan Crona                         Stamm-Crooks      2013-10-12\n",
       "977    Chauncey Dach            Denesik, Stehr and Carter      2014-11-14\n",
       "978      Milan Crona           Kris, Shanahan and Quigley      2015-03-20\n",
       "979      Milan Crona           Kris, Shanahan and Quigley      2017-04-24\n",
       "980     Aidan Pouros                          Bosco-Ortiz      2016-06-05\n",
       "981  Rigoberto White                        Franecki-Feil      2015-07-06\n",
       "982      Milan Crona          Lindgren, Graham and Spinka      2014-11-04\n",
       "983    Chauncey Dach          Fahey, Wunsch and Bashirian      2016-04-05\n",
       "984     Aidan Pouros                       Ondricka-Wolff      2016-06-14\n",
       "985    Chauncey Dach                      Armstrong Group      2016-09-02\n",
       "986    Chauncey Dach          Fahey, Wunsch and Bashirian      2015-09-18\n",
       "987      Milan Crona            Lueilwitz, Moore and Hahn      2014-05-13\n",
       "988      Milan Crona                    Eichmann and Sons      2014-11-27\n",
       "989    Chauncey Dach        Oga, Gottlieb and Cruickshank      2016-04-08\n",
       "990      Milan Crona        Oga, Gottlieb and Cruickshank      2014-06-19\n",
       "991  Rigoberto White          Lindgren, Graham and Spinka      2015-04-03\n",
       "992      Milan Crona                         Abbott Group      2014-02-13\n",
       "993    Chauncey Dach                      Armstrong Group      2015-08-13\n",
       "994      Milan Crona  Hermiston, Armstrong and Balistreri      2013-12-23\n",
       "995     Aidan Pouros                          Bosco-Ortiz      2014-04-13\n",
       "996      Milan Crona                        Halvorson LLC      2016-09-16\n",
       "997    Chauncey Dach                        Franecki-Feil      2015-03-21\n",
       "998      Milan Crona                         Abbott Group      2017-09-27\n",
       "999    Chauncey Dach                    Eichmann and Sons      2017-06-16\n",
       "\n",
       "[1000 rows x 3 columns]>"
      ]
     },
     "execution_count": 4,
     "metadata": {},
     "output_type": "execute_result"
    }
   ],
   "source": [
    "x.head"
   ]
  },
  {
   "cell_type": "code",
   "execution_count": 5,
   "metadata": {},
   "outputs": [
    {
     "data": {
      "text/html": [
       "<div>\n",
       "<style>\n",
       "    .dataframe thead tr:only-child th {\n",
       "        text-align: right;\n",
       "    }\n",
       "\n",
       "    .dataframe thead th {\n",
       "        text-align: left;\n",
       "    }\n",
       "\n",
       "    .dataframe tbody tr th {\n",
       "        vertical-align: top;\n",
       "    }\n",
       "</style>\n",
       "<table border=\"1\" class=\"dataframe\">\n",
       "  <thead>\n",
       "    <tr style=\"text-align: right;\">\n",
       "      <th></th>\n",
       "      <th>Account manager</th>\n",
       "      <th>Client Name</th>\n",
       "      <th>Date of Contact</th>\n",
       "    </tr>\n",
       "  </thead>\n",
       "  <tbody>\n",
       "    <tr>\n",
       "      <th>count</th>\n",
       "      <td>1000</td>\n",
       "      <td>1000</td>\n",
       "      <td>1000</td>\n",
       "    </tr>\n",
       "    <tr>\n",
       "      <th>unique</th>\n",
       "      <td>4</td>\n",
       "      <td>35</td>\n",
       "      <td>703</td>\n",
       "    </tr>\n",
       "    <tr>\n",
       "      <th>top</th>\n",
       "      <td>Milan Crona</td>\n",
       "      <td>Eichmann and Sons</td>\n",
       "      <td>2013-10-11</td>\n",
       "    </tr>\n",
       "    <tr>\n",
       "      <th>freq</th>\n",
       "      <td>286</td>\n",
       "      <td>38</td>\n",
       "      <td>7</td>\n",
       "    </tr>\n",
       "  </tbody>\n",
       "</table>\n",
       "</div>"
      ],
      "text/plain": [
       "       Account manager        Client Name Date of Contact\n",
       "count             1000               1000            1000\n",
       "unique               4                 35             703\n",
       "top        Milan Crona  Eichmann and Sons      2013-10-11\n",
       "freq               286                 38               7"
      ]
     },
     "execution_count": 5,
     "metadata": {},
     "output_type": "execute_result"
    }
   ],
   "source": [
    "x.describe()"
   ]
  },
  {
   "cell_type": "code",
   "execution_count": 7,
   "metadata": {},
   "outputs": [
    {
     "data": {
      "text/html": [
       "<div>\n",
       "<style>\n",
       "    .dataframe thead tr:only-child th {\n",
       "        text-align: right;\n",
       "    }\n",
       "\n",
       "    .dataframe thead th {\n",
       "        text-align: left;\n",
       "    }\n",
       "\n",
       "    .dataframe tbody tr th {\n",
       "        vertical-align: top;\n",
       "    }\n",
       "</style>\n",
       "<table border=\"1\" class=\"dataframe\">\n",
       "  <thead>\n",
       "    <tr style=\"text-align: right;\">\n",
       "      <th></th>\n",
       "      <th>Client Name</th>\n",
       "      <th>Date of Contact</th>\n",
       "    </tr>\n",
       "    <tr>\n",
       "      <th>Account manager</th>\n",
       "      <th></th>\n",
       "      <th></th>\n",
       "    </tr>\n",
       "  </thead>\n",
       "  <tbody>\n",
       "    <tr>\n",
       "      <th>Aidan Pouros</th>\n",
       "      <td>239</td>\n",
       "      <td>239</td>\n",
       "    </tr>\n",
       "    <tr>\n",
       "      <th>Chauncey Dach</th>\n",
       "      <td>253</td>\n",
       "      <td>253</td>\n",
       "    </tr>\n",
       "    <tr>\n",
       "      <th>Milan Crona</th>\n",
       "      <td>286</td>\n",
       "      <td>286</td>\n",
       "    </tr>\n",
       "    <tr>\n",
       "      <th>Rigoberto White</th>\n",
       "      <td>222</td>\n",
       "      <td>222</td>\n",
       "    </tr>\n",
       "  </tbody>\n",
       "</table>\n",
       "</div>"
      ],
      "text/plain": [
       "                 Client Name  Date of Contact\n",
       "Account manager                              \n",
       "Aidan Pouros             239              239\n",
       "Chauncey Dach            253              253\n",
       "Milan Crona              286              286\n",
       "Rigoberto White          222              222"
      ]
     },
     "execution_count": 7,
     "metadata": {},
     "output_type": "execute_result"
    }
   ],
   "source": [
    "x.groupby(['Account manager']).agg('count')"
   ]
  },
  {
   "cell_type": "code",
   "execution_count": 53,
   "metadata": {},
   "outputs": [],
   "source": [
    "x['Year'] = x['Date of Contact'].apply(lambda x: x[:4])"
   ]
  },
  {
   "cell_type": "code",
   "execution_count": 56,
   "metadata": {},
   "outputs": [],
   "source": [
    "x['Month'] = x['Date of Contact'].apply(lambda x: x[5:7])"
   ]
  },
  {
   "cell_type": "code",
   "execution_count": 58,
   "metadata": {},
   "outputs": [],
   "source": [
    "x['YM'] = x['Date of Contact'].apply(lambda x: x[:7])"
   ]
  },
  {
   "cell_type": "code",
   "execution_count": 59,
   "metadata": {},
   "outputs": [
    {
     "data": {
      "text/html": [
       "<div>\n",
       "<style>\n",
       "    .dataframe thead tr:only-child th {\n",
       "        text-align: right;\n",
       "    }\n",
       "\n",
       "    .dataframe thead th {\n",
       "        text-align: left;\n",
       "    }\n",
       "\n",
       "    .dataframe tbody tr th {\n",
       "        vertical-align: top;\n",
       "    }\n",
       "</style>\n",
       "<table border=\"1\" class=\"dataframe\">\n",
       "  <thead>\n",
       "    <tr style=\"text-align: right;\">\n",
       "      <th></th>\n",
       "      <th>Account manager</th>\n",
       "      <th>Client Name</th>\n",
       "      <th>Date of Contact</th>\n",
       "      <th>Year</th>\n",
       "      <th>Month</th>\n",
       "      <th>YM</th>\n",
       "    </tr>\n",
       "  </thead>\n",
       "  <tbody>\n",
       "    <tr>\n",
       "      <th>count</th>\n",
       "      <td>1000</td>\n",
       "      <td>1000</td>\n",
       "      <td>1000</td>\n",
       "      <td>1000</td>\n",
       "      <td>1000</td>\n",
       "      <td>1000</td>\n",
       "    </tr>\n",
       "    <tr>\n",
       "      <th>unique</th>\n",
       "      <td>4</td>\n",
       "      <td>35</td>\n",
       "      <td>703</td>\n",
       "      <td>5</td>\n",
       "      <td>12</td>\n",
       "      <td>48</td>\n",
       "    </tr>\n",
       "    <tr>\n",
       "      <th>top</th>\n",
       "      <td>Milan Crona</td>\n",
       "      <td>Eichmann and Sons</td>\n",
       "      <td>2013-10-11</td>\n",
       "      <td>2014</td>\n",
       "      <td>10</td>\n",
       "      <td>2013-10</td>\n",
       "    </tr>\n",
       "    <tr>\n",
       "      <th>freq</th>\n",
       "      <td>286</td>\n",
       "      <td>38</td>\n",
       "      <td>7</td>\n",
       "      <td>264</td>\n",
       "      <td>213</td>\n",
       "      <td>60</td>\n",
       "    </tr>\n",
       "  </tbody>\n",
       "</table>\n",
       "</div>"
      ],
      "text/plain": [
       "       Account manager        Client Name Date of Contact  Year Month       YM\n",
       "count             1000               1000            1000  1000  1000     1000\n",
       "unique               4                 35             703     5    12       48\n",
       "top        Milan Crona  Eichmann and Sons      2013-10-11  2014    10  2013-10\n",
       "freq               286                 38               7   264   213       60"
      ]
     },
     "execution_count": 59,
     "metadata": {},
     "output_type": "execute_result"
    }
   ],
   "source": [
    "x.describe()"
   ]
  },
  {
   "cell_type": "code",
   "execution_count": 63,
   "metadata": {},
   "outputs": [
    {
     "data": {
      "text/plain": [
       "Year\n",
       "2013     98\n",
       "2014    264\n",
       "2015    251\n",
       "2016    240\n",
       "2017    147\n",
       "Name: YM, dtype: int64"
      ]
     },
     "execution_count": 63,
     "metadata": {},
     "output_type": "execute_result"
    }
   ],
   "source": [
    "x.groupby(['Year'])['YM'].agg('count')"
   ]
  },
  {
   "cell_type": "code",
   "execution_count": 68,
   "metadata": {},
   "outputs": [],
   "source": [
    "graph = x.groupby(['Month'], as_index = False)['YM'].agg('count')"
   ]
  },
  {
   "cell_type": "code",
   "execution_count": 77,
   "metadata": {},
   "outputs": [
    {
     "data": {
      "text/plain": [
       "<matplotlib.axes._subplots.AxesSubplot at 0x11a2c7eb8>"
      ]
     },
     "execution_count": 77,
     "metadata": {},
     "output_type": "execute_result"
    },
    {
     "data": {
      "image/png": "[encoded data removed]",
      "text/plain": [
       "<matplotlib.figure.Figure at 0x11a1679b0>"
      ]
     },
     "metadata": {},
     "output_type": "display_data"
    }
   ],
   "source": [
    "sns.barplot(x = 'Month', y = 'YM', data = graph)"
   ]
  },
  {
   "cell_type": "code",
   "execution_count": 75,
   "metadata": {},
   "outputs": [
    {
     "data": {
      "text/html": [
       "<div>\n",
       "<style>\n",
       "    .dataframe thead tr:only-child th {\n",
       "        text-align: right;\n",
       "    }\n",
       "\n",
       "    .dataframe thead th {\n",
       "        text-align: left;\n",
       "    }\n",
       "\n",
       "    .dataframe tbody tr th {\n",
       "        vertical-align: top;\n",
       "    }\n",
       "</style>\n",
       "<table border=\"1\" class=\"dataframe\">\n",
       "  <thead>\n",
       "    <tr style=\"text-align: right;\">\n",
       "      <th></th>\n",
       "      <th>Month</th>\n",
       "      <th>YM</th>\n",
       "    </tr>\n",
       "  </thead>\n",
       "  <tbody>\n",
       "    <tr>\n",
       "      <th>0</th>\n",
       "      <td>01</td>\n",
       "      <td>60</td>\n",
       "    </tr>\n",
       "    <tr>\n",
       "      <th>1</th>\n",
       "      <td>02</td>\n",
       "      <td>64</td>\n",
       "    </tr>\n",
       "    <tr>\n",
       "      <th>2</th>\n",
       "      <td>03</td>\n",
       "      <td>58</td>\n",
       "    </tr>\n",
       "    <tr>\n",
       "      <th>3</th>\n",
       "      <td>04</td>\n",
       "      <td>52</td>\n",
       "    </tr>\n",
       "    <tr>\n",
       "      <th>4</th>\n",
       "      <td>05</td>\n",
       "      <td>69</td>\n",
       "    </tr>\n",
       "    <tr>\n",
       "      <th>5</th>\n",
       "      <td>06</td>\n",
       "      <td>77</td>\n",
       "    </tr>\n",
       "    <tr>\n",
       "      <th>6</th>\n",
       "      <td>07</td>\n",
       "      <td>66</td>\n",
       "    </tr>\n",
       "    <tr>\n",
       "      <th>7</th>\n",
       "      <td>08</td>\n",
       "      <td>79</td>\n",
       "    </tr>\n",
       "    <tr>\n",
       "      <th>8</th>\n",
       "      <td>09</td>\n",
       "      <td>121</td>\n",
       "    </tr>\n",
       "    <tr>\n",
       "      <th>9</th>\n",
       "      <td>10</td>\n",
       "      <td>213</td>\n",
       "    </tr>\n",
       "    <tr>\n",
       "      <th>10</th>\n",
       "      <td>11</td>\n",
       "      <td>65</td>\n",
       "    </tr>\n",
       "    <tr>\n",
       "      <th>11</th>\n",
       "      <td>12</td>\n",
       "      <td>76</td>\n",
       "    </tr>\n",
       "  </tbody>\n",
       "</table>\n",
       "</div>"
      ],
      "text/plain": [
       "   Month   YM\n",
       "0     01   60\n",
       "1     02   64\n",
       "2     03   58\n",
       "3     04   52\n",
       "4     05   69\n",
       "5     06   77\n",
       "6     07   66\n",
       "7     08   79\n",
       "8     09  121\n",
       "9     10  213\n",
       "10    11   65\n",
       "11    12   76"
      ]
     },
     "execution_count": 75,
     "metadata": {},
     "output_type": "execute_result"
    }
   ],
   "source": [
    "graph"
   ]
  },
  {
   "cell_type": "code",
   "execution_count": null,
   "metadata": {
    "collapsed": true
   },
   "outputs": [],
   "source": []
  }
 ],
 "metadata": {
  "kernelspec": {
   "display_name": "Python 3",
   "language": "python",
   "name": "python3"
  },
  "language_info": {
   "codemirror_mode": {
    "name": "ipython",
    "version": 3
   },
   "file_extension": ".py",
   "mimetype": "text/x-python",
   "name": "python",
   "nbconvert_exporter": "python",
   "pygments_lexer": "ipython3",
   "version": "3.5.3"
  }
 },
 "nbformat": 4,
 "nbformat_minor": 2
}
